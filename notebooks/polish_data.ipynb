{
 "cells": [
  {
   "cell_type": "code",
   "execution_count": 5,
   "metadata": {},
   "outputs": [
    {
     "name": "stderr",
     "output_type": "stream",
     "text": [
      "2025-02-03 18:03:56.142713: E external/local_xla/xla/stream_executor/cuda/cuda_fft.cc:477] Unable to register cuFFT factory: Attempting to register factory for plugin cuFFT when one has already been registered\n",
      "WARNING: All log messages before absl::InitializeLog() is called are written to STDERR\n",
      "E0000 00:00:1738616636.166074     697 cuda_dnn.cc:8310] Unable to register cuDNN factory: Attempting to register factory for plugin cuDNN when one has already been registered\n",
      "E0000 00:00:1738616636.173473     697 cuda_blas.cc:1418] Unable to register cuBLAS factory: Attempting to register factory for plugin cuBLAS when one has already been registered\n",
      "2025-02-03 18:03:56.194807: I tensorflow/core/platform/cpu_feature_guard.cc:210] This TensorFlow binary is optimized to use available CPU instructions in performance-critical operations.\n",
      "To enable the following instructions: AVX2 FMA, in other operations, rebuild TensorFlow with the appropriate compiler flags.\n"
     ]
    }
   ],
   "source": [
    "import os\n",
    "import sys\n",
    "import tensorflow as tf\n",
    "sys.path.append('..')"
   ]
  },
  {
   "cell_type": "code",
   "execution_count": 7,
   "metadata": {},
   "outputs": [],
   "source": [
    "from pathlib import Path\n",
    "import imghdr\n",
    "\n",
    "data_path = '/home/diego/Documents/UFC/20242/IA/jiheisho/data'\n",
    "train_path = os.path.join(data_path, 'train')\n",
    "test_path = os.path.join(data_path, 'test')\n",
    "\n",
    "classes = os.listdir(train_path)\n",
    "\n",
    "def remove_corrupted_images(path, classes):\n",
    "    class_paths = [os.path.join(path, classe) for classe in classes]\n",
    "    for cpath in class_paths:\n",
    "        jpg_link = list(Path(cpath).glob(r'**/*.jpg'))\n",
    "        jpeg_link = list(Path(cpath).glob(r'**/*.jpeg'))\n",
    "\n",
    "        jpg_link.extend(jpeg_link)\n",
    "\n",
    "        count_num = 0\n",
    "        for lnk in jpg_link:\n",
    "            binary_img=open(lnk,'rb')\n",
    "            find_img=tf.compat.as_bytes('JFIF') in binary_img.peek(10)\n",
    "            if not find_img:\n",
    "                count_num+=1\n",
    "                os.remove(str(lnk))\n",
    "        print(f'Removido {count_num} imagens do path {cpath}')\n",
    "\n"
   ]
  },
  {
   "cell_type": "code",
   "execution_count": 9,
   "metadata": {},
   "outputs": [
    {
     "name": "stdout",
     "output_type": "stream",
     "text": [
      "Removido 0 imagens do path /home/diego/Documents/UFC/20242/IA/jiheisho/data/test/bald_uakari\n",
      "Removido 0 imagens do path /home/diego/Documents/UFC/20242/IA/jiheisho/data/test/emperor_tamarin\n",
      "Removido 0 imagens do path /home/diego/Documents/UFC/20242/IA/jiheisho/data/test/golden_monkey\n",
      "Removido 0 imagens do path /home/diego/Documents/UFC/20242/IA/jiheisho/data/test/gray_langur\n",
      "Removido 0 imagens do path /home/diego/Documents/UFC/20242/IA/jiheisho/data/test/hamadryas_baboon\n",
      "Removido 0 imagens do path /home/diego/Documents/UFC/20242/IA/jiheisho/data/test/mandril\n",
      "Removido 0 imagens do path /home/diego/Documents/UFC/20242/IA/jiheisho/data/test/proboscis_monkey\n",
      "Removido 0 imagens do path /home/diego/Documents/UFC/20242/IA/jiheisho/data/test/red_howler\n",
      "Removido 0 imagens do path /home/diego/Documents/UFC/20242/IA/jiheisho/data/test/vervet_monkey\n",
      "Removido 0 imagens do path /home/diego/Documents/UFC/20242/IA/jiheisho/data/test/white_faced_saki\n"
     ]
    }
   ],
   "source": [
    "remove_corrupted_images(test_path, classes)"
   ]
  },
  {
   "cell_type": "code",
   "execution_count": null,
   "metadata": {},
   "outputs": [],
   "source": []
  }
 ],
 "metadata": {
  "kernelspec": {
   "display_name": "general_ml",
   "language": "python",
   "name": "python3"
  },
  "language_info": {
   "codemirror_mode": {
    "name": "ipython",
    "version": 3
   },
   "file_extension": ".py",
   "mimetype": "text/x-python",
   "name": "python",
   "nbconvert_exporter": "python",
   "pygments_lexer": "ipython3",
   "version": "3.9.19"
  }
 },
 "nbformat": 4,
 "nbformat_minor": 2
}
